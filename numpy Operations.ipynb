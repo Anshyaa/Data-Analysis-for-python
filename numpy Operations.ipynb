{
 "cells": [
  {
   "cell_type": "markdown",
   "id": "f2b6988c",
   "metadata": {},
   "source": [
    "# Numpy Exercise"
   ]
  },
  {
   "cell_type": "code",
   "execution_count": 1,
   "id": "be52a4fd",
   "metadata": {
    "scrolled": true
   },
   "outputs": [
    {
     "name": "stdout",
     "output_type": "stream",
     "text": [
      "1.23.2\n"
     ]
    }
   ],
   "source": [
    "# Import the numpy package under the name np\n",
    "import numpy as np\n",
    "\n",
    "# Print the numpy version and the configuration\n",
    "print(np.__version__)"
   ]
  },
  {
   "cell_type": "markdown",
   "id": "79ea3d1a",
   "metadata": {},
   "source": [
    "### Array Creation\n",
    "Create a numpy array of size 10, filled with zeros"
   ]
  },
  {
   "cell_type": "code",
   "execution_count": 2,
   "id": "f29fa1f6",
   "metadata": {},
   "outputs": [
    {
     "data": {
      "text/plain": [
       "array([0., 0., 0., 0., 0., 0., 0., 0., 0., 0.])"
      ]
     },
     "execution_count": 2,
     "metadata": {},
     "output_type": "execute_result"
    }
   ],
   "source": [
    "np.zeros(10)"
   ]
  },
  {
   "cell_type": "markdown",
   "id": "7a8044e4",
   "metadata": {},
   "source": [
    "### Createa numpy array with values ranging from 10 to 49"
   ]
  },
  {
   "cell_type": "code",
   "execution_count": 3,
   "id": "4ad074fa",
   "metadata": {},
   "outputs": [
    {
     "data": {
      "text/plain": [
       "array([10, 11, 12, 13, 14, 15, 16, 17, 18, 19, 20, 21, 22, 23, 24, 25, 26,\n",
       "       27, 28, 29, 30, 31, 32, 33, 34, 35, 36, 37, 38, 39, 40, 41, 42, 43,\n",
       "       44, 45, 46, 47, 48, 49])"
      ]
     },
     "execution_count": 3,
     "metadata": {},
     "output_type": "execute_result"
    }
   ],
   "source": [
    "np.arange(10, 50)"
   ]
  },
  {
   "cell_type": "markdown",
   "id": "5f72a51a",
   "metadata": {},
   "source": [
    "### Create a numpy matrix of 2*2 integers, filled with ones."
   ]
  },
  {
   "cell_type": "code",
   "execution_count": 4,
   "id": "121bb863",
   "metadata": {},
   "outputs": [
    {
     "name": "stderr",
     "output_type": "stream",
     "text": [
      "C:\\Users\\anshu\\AppData\\Local\\Temp\\ipykernel_12764\\2225746612.py:1: DeprecationWarning: `np.int` is a deprecated alias for the builtin `int`. To silence this warning, use `int` by itself. Doing this will not modify any behavior and is safe. When replacing `np.int`, you may wish to use e.g. `np.int64` or `np.int32` to specify the precision. If you wish to review your current use, check the release note link for additional information.\n",
      "Deprecated in NumPy 1.20; for more details and guidance: https://numpy.org/devdocs/release/1.20.0-notes.html#deprecations\n",
      "  np.ones([2,2], dtype=np.int)\n"
     ]
    },
    {
     "data": {
      "text/plain": [
       "array([[1, 1],\n",
       "       [1, 1]])"
      ]
     },
     "execution_count": 4,
     "metadata": {},
     "output_type": "execute_result"
    }
   ],
   "source": [
    "np.ones([2,2], dtype=np.int)"
   ]
  },
  {
   "cell_type": "markdown",
   "id": "67eb1c64",
   "metadata": {},
   "source": [
    "### Create a numpy matrix of 3*2 float numbers, filled with ones."
   ]
  },
  {
   "cell_type": "code",
   "execution_count": 5,
   "id": "19af6f53",
   "metadata": {},
   "outputs": [
    {
     "name": "stderr",
     "output_type": "stream",
     "text": [
      "C:\\Users\\anshu\\AppData\\Local\\Temp\\ipykernel_12764\\1706469954.py:1: DeprecationWarning: `np.float` is a deprecated alias for the builtin `float`. To silence this warning, use `float` by itself. Doing this will not modify any behavior and is safe. If you specifically wanted the numpy scalar type, use `np.float64` here.\n",
      "Deprecated in NumPy 1.20; for more details and guidance: https://numpy.org/devdocs/release/1.20.0-notes.html#deprecations\n",
      "  np.ones([3, 2], dtype = np.float)\n"
     ]
    },
    {
     "data": {
      "text/plain": [
       "array([[1., 1.],\n",
       "       [1., 1.],\n",
       "       [1., 1.]])"
      ]
     },
     "execution_count": 5,
     "metadata": {},
     "output_type": "execute_result"
    }
   ],
   "source": [
    "np.ones([3, 2], dtype = np.float)"
   ]
  },
  {
   "cell_type": "markdown",
   "id": "e9ae820f",
   "metadata": {},
   "source": [
    "### Given the X numpy array, create a new numpy array with the same shape and type as X, filled with ones."
   ]
  },
  {
   "cell_type": "code",
   "execution_count": 6,
   "id": "e78d2fbd",
   "metadata": {},
   "outputs": [
    {
     "name": "stderr",
     "output_type": "stream",
     "text": [
      "C:\\Users\\anshu\\AppData\\Local\\Temp\\ipykernel_12764\\743733180.py:1: DeprecationWarning: `np.int` is a deprecated alias for the builtin `int`. To silence this warning, use `int` by itself. Doing this will not modify any behavior and is safe. When replacing `np.int`, you may wish to use e.g. `np.int64` or `np.int32` to specify the precision. If you wish to review your current use, check the release note link for additional information.\n",
      "Deprecated in NumPy 1.20; for more details and guidance: https://numpy.org/devdocs/release/1.20.0-notes.html#deprecations\n",
      "  X = np.arange(4, dtype = np.int)\n"
     ]
    },
    {
     "data": {
      "text/plain": [
       "array([1, 1, 1, 1])"
      ]
     },
     "execution_count": 6,
     "metadata": {},
     "output_type": "execute_result"
    }
   ],
   "source": [
    "X = np.arange(4, dtype = np.int)\n",
    "\n",
    "np.ones_like(X)"
   ]
  },
  {
   "cell_type": "markdown",
   "id": "1071bc2f",
   "metadata": {},
   "source": [
    "### Given the X numpy matrix, create a new numpy matrix with the same shape and type as X, filled with zeros."
   ]
  },
  {
   "cell_type": "code",
   "execution_count": 7,
   "id": "8a44cd2d",
   "metadata": {},
   "outputs": [
    {
     "name": "stderr",
     "output_type": "stream",
     "text": [
      "C:\\Users\\anshu\\AppData\\Local\\Temp\\ipykernel_12764\\120036505.py:1: DeprecationWarning: `np.int` is a deprecated alias for the builtin `int`. To silence this warning, use `int` by itself. Doing this will not modify any behavior and is safe. When replacing `np.int`, you may wish to use e.g. `np.int64` or `np.int32` to specify the precision. If you wish to review your current use, check the release note link for additional information.\n",
      "Deprecated in NumPy 1.20; for more details and guidance: https://numpy.org/devdocs/release/1.20.0-notes.html#deprecations\n",
      "  X = np.array([[1,2,3],[4,5,6]], dtype=np.int)\n"
     ]
    },
    {
     "data": {
      "text/plain": [
       "array([[0, 0, 0],\n",
       "       [0, 0, 0]])"
      ]
     },
     "execution_count": 7,
     "metadata": {},
     "output_type": "execute_result"
    }
   ],
   "source": [
    "X = np.array([[1,2,3],[4,5,6]], dtype=np.int)\n",
    "X*0\n",
    "# np.zeros_like(X)"
   ]
  },
  {
   "cell_type": "markdown",
   "id": "38404bda",
   "metadata": {},
   "source": [
    "### Create a numpy matrix of 4*4 integers, filled with fivesm"
   ]
  },
  {
   "cell_type": "code",
   "execution_count": 8,
   "id": "eb7cddb2",
   "metadata": {},
   "outputs": [
    {
     "name": "stderr",
     "output_type": "stream",
     "text": [
      "C:\\Users\\anshu\\AppData\\Local\\Temp\\ipykernel_12764\\3070688422.py:1: DeprecationWarning: `np.int` is a deprecated alias for the builtin `int`. To silence this warning, use `int` by itself. Doing this will not modify any behavior and is safe. When replacing `np.int`, you may wish to use e.g. `np.int64` or `np.int32` to specify the precision. If you wish to review your current use, check the release note link for additional information.\n",
      "Deprecated in NumPy 1.20; for more details and guidance: https://numpy.org/devdocs/release/1.20.0-notes.html#deprecations\n",
      "  np.ones([4,4], dtype = np.int)*5\n"
     ]
    },
    {
     "data": {
      "text/plain": [
       "array([[5, 5, 5, 5],\n",
       "       [5, 5, 5, 5],\n",
       "       [5, 5, 5, 5],\n",
       "       [5, 5, 5, 5]])"
      ]
     },
     "execution_count": 8,
     "metadata": {},
     "output_type": "execute_result"
    }
   ],
   "source": [
    "np.ones([4,4], dtype = np.int)*5"
   ]
  },
  {
   "cell_type": "markdown",
   "id": "ec4d69d0",
   "metadata": {},
   "source": [
    "### Given the X numpy matrix, create a new numpy matrix with the same shape and type as X, filled with sevens"
   ]
  },
  {
   "cell_type": "code",
   "execution_count": 9,
   "id": "86520a80",
   "metadata": {},
   "outputs": [
    {
     "name": "stderr",
     "output_type": "stream",
     "text": [
      "C:\\Users\\anshu\\AppData\\Local\\Temp\\ipykernel_12764\\3163727857.py:1: DeprecationWarning: `np.int` is a deprecated alias for the builtin `int`. To silence this warning, use `int` by itself. Doing this will not modify any behavior and is safe. When replacing `np.int`, you may wish to use e.g. `np.int64` or `np.int32` to specify the precision. If you wish to review your current use, check the release note link for additional information.\n",
      "Deprecated in NumPy 1.20; for more details and guidance: https://numpy.org/devdocs/release/1.20.0-notes.html#deprecations\n",
      "  X = np.array([[1,1],[1,1]], dtype = np.int)\n"
     ]
    },
    {
     "data": {
      "text/plain": [
       "array([[7, 7],\n",
       "       [7, 7]])"
      ]
     },
     "execution_count": 9,
     "metadata": {},
     "output_type": "execute_result"
    }
   ],
   "source": [
    "X = np.array([[1,1],[1,1]], dtype = np.int)\n",
    "# X*7\n",
    "np.ones_like(X)*7"
   ]
  },
  {
   "cell_type": "markdown",
   "id": "84f7889d",
   "metadata": {},
   "source": [
    "### Create a 3*3 identity numpy matrix with ones on the diagonal and zeros elsewhere."
   ]
  },
  {
   "cell_type": "code",
   "execution_count": 10,
   "id": "8c010aee",
   "metadata": {},
   "outputs": [
    {
     "data": {
      "text/plain": [
       "array([[1., 0., 0.],\n",
       "       [0., 1., 0.],\n",
       "       [0., 0., 1.]])"
      ]
     },
     "execution_count": 10,
     "metadata": {},
     "output_type": "execute_result"
    }
   ],
   "source": [
    "np.identity(3)"
   ]
  },
  {
   "cell_type": "markdown",
   "id": "ea6620d2",
   "metadata": {},
   "source": [
    "### Create a numpy array, filled with 3 random integer values between 1 and 10."
   ]
  },
  {
   "cell_type": "code",
   "execution_count": 11,
   "id": "41d508fd",
   "metadata": {},
   "outputs": [
    {
     "data": {
      "text/plain": [
       "array([6, 2, 1])"
      ]
     },
     "execution_count": 11,
     "metadata": {},
     "output_type": "execute_result"
    }
   ],
   "source": [
    "np.random.randint(10,size=3)"
   ]
  },
  {
   "cell_type": "markdown",
   "id": "2e6a5243",
   "metadata": {},
   "source": [
    "### Given the X python list convert it to an Y numpy array"
   ]
  },
  {
   "cell_type": "code",
   "execution_count": 12,
   "id": "80c90f94",
   "metadata": {},
   "outputs": [
    {
     "name": "stdout",
     "output_type": "stream",
     "text": [
      "[1, 2, 3, 4, 5] <class 'list'>\n",
      "[1 2 3 4 5] <class 'numpy.ndarray'>\n"
     ]
    }
   ],
   "source": [
    "X = [1, 2, 3, 4, 5]\n",
    "print(X, type(X))\n",
    "\n",
    "Y = np.array(X)\n",
    "print(Y, type(Y)) #different type"
   ]
  },
  {
   "cell_type": "markdown",
   "id": "2b94969a",
   "metadata": {},
   "source": [
    "### Given the X numpy array, make a copy and store it on Y"
   ]
  },
  {
   "cell_type": "code",
   "execution_count": 13,
   "id": "e2d8360c",
   "metadata": {},
   "outputs": [
    {
     "name": "stdout",
     "output_type": "stream",
     "text": [
      "[2 4 6 8] 2324694927952\n",
      "[2 4 6 8] 2324694928912\n"
     ]
    },
    {
     "name": "stderr",
     "output_type": "stream",
     "text": [
      "C:\\Users\\anshu\\AppData\\Local\\Temp\\ipykernel_12764\\281709011.py:1: DeprecationWarning: `np.int` is a deprecated alias for the builtin `int`. To silence this warning, use `int` by itself. Doing this will not modify any behavior and is safe. When replacing `np.int`, you may wish to use e.g. `np.int64` or `np.int32` to specify the precision. If you wish to review your current use, check the release note link for additional information.\n",
      "Deprecated in NumPy 1.20; for more details and guidance: https://numpy.org/devdocs/release/1.20.0-notes.html#deprecations\n",
      "  X = np.array([2, 4, 6, 8], dtype= np.int)\n"
     ]
    }
   ],
   "source": [
    "X = np.array([2, 4, 6, 8], dtype= np.int)\n",
    "print(X, id(X))\n",
    "\n",
    "Y = np.copy(X)\n",
    "print(Y, id(Y)) #different id"
   ]
  },
  {
   "cell_type": "markdown",
   "id": "1190f387",
   "metadata": {},
   "source": [
    "### Create a numpy array with numbers from 1 to 10"
   ]
  },
  {
   "cell_type": "code",
   "execution_count": 14,
   "id": "41e70b20",
   "metadata": {},
   "outputs": [
    {
     "data": {
      "text/plain": [
       "array([1, 3, 5, 7, 9])"
      ]
     },
     "execution_count": 14,
     "metadata": {},
     "output_type": "execute_result"
    }
   ],
   "source": [
    "np.arange(1, 11, 2)"
   ]
  },
  {
   "cell_type": "markdown",
   "id": "5566c048",
   "metadata": {},
   "source": [
    "### Create a numpy array with numbers from 1 to 10, in descending order."
   ]
  },
  {
   "cell_type": "code",
   "execution_count": 15,
   "id": "e701a117",
   "metadata": {},
   "outputs": [
    {
     "data": {
      "text/plain": [
       "array([10,  9,  8,  7,  6,  5,  4,  3,  2,  1])"
      ]
     },
     "execution_count": 15,
     "metadata": {},
     "output_type": "execute_result"
    }
   ],
   "source": [
    "np.arange(1,11)[::-1]"
   ]
  },
  {
   "cell_type": "markdown",
   "id": "09b20386",
   "metadata": {},
   "source": [
    "### Create a 3*3 numpy matrix, filled with values ranging from 0 to 8"
   ]
  },
  {
   "cell_type": "code",
   "execution_count": 16,
   "id": "b0edb3b2",
   "metadata": {},
   "outputs": [
    {
     "data": {
      "text/plain": [
       "array([[0, 1, 2],\n",
       "       [3, 4, 5],\n",
       "       [6, 7, 8]])"
      ]
     },
     "execution_count": 16,
     "metadata": {},
     "output_type": "execute_result"
    }
   ],
   "source": [
    "np.arange(9).reshape(3, 3)"
   ]
  },
  {
   "cell_type": "markdown",
   "id": "1c1ec4fa",
   "metadata": {},
   "source": [
    "### Show the memory size of the given Z numpy matrix"
   ]
  },
  {
   "cell_type": "code",
   "execution_count": 17,
   "id": "f421c7d3",
   "metadata": {},
   "outputs": [
    {
     "name": "stdout",
     "output_type": "stream",
     "text": [
      "32 bytes\n"
     ]
    }
   ],
   "source": [
    "Z = np.zeros((2,2))\n",
    "\n",
    "print(\"%d bytes\" % (Z.size * Z.itemsize))"
   ]
  },
  {
   "cell_type": "markdown",
   "id": "49a3298f",
   "metadata": {},
   "source": [
    "# Array indexation"
   ]
  },
  {
   "cell_type": "markdown",
   "id": "f0736c03",
   "metadata": {},
   "source": [
    "### Given the X numpy array, show it's first element"
   ]
  },
  {
   "cell_type": "code",
   "execution_count": 18,
   "id": "a5bbb3ca",
   "metadata": {},
   "outputs": [
    {
     "data": {
      "text/plain": [
       "'A'"
      ]
     },
     "execution_count": 18,
     "metadata": {},
     "output_type": "execute_result"
    }
   ],
   "source": [
    "X = np.array(['A','B','C','D','E'])\n",
    "X[0]"
   ]
  },
  {
   "cell_type": "markdown",
   "id": "aef057e6",
   "metadata": {},
   "source": [
    "###  Given the X numpy array, show it's last elemen"
   ]
  },
  {
   "cell_type": "code",
   "execution_count": 19,
   "id": "ee17d104",
   "metadata": {},
   "outputs": [
    {
     "data": {
      "text/plain": [
       "'E'"
      ]
     },
     "execution_count": 19,
     "metadata": {},
     "output_type": "execute_result"
    }
   ],
   "source": [
    "X = np.array(['A','B','C','D','E'])\n",
    "X[-1]"
   ]
  },
  {
   "cell_type": "markdown",
   "id": "092475a5",
   "metadata": {},
   "source": [
    "### Given the X numpy array, show it's first three elements"
   ]
  },
  {
   "cell_type": "code",
   "execution_count": 20,
   "id": "3114bec9",
   "metadata": {},
   "outputs": [
    {
     "data": {
      "text/plain": [
       "array(['A', 'B', 'C'], dtype='<U1')"
      ]
     },
     "execution_count": 20,
     "metadata": {},
     "output_type": "execute_result"
    }
   ],
   "source": [
    "X = np.array(['A','B','C','D','E'])\n",
    "X[0:3]"
   ]
  },
  {
   "cell_type": "markdown",
   "id": "f28eb0d6",
   "metadata": {},
   "source": [
    "### Given the X numpy array, show all middle elements"
   ]
  },
  {
   "cell_type": "code",
   "execution_count": 21,
   "id": "4f0a4719",
   "metadata": {},
   "outputs": [
    {
     "data": {
      "text/plain": [
       "array(['B', 'C', 'D'], dtype='<U1')"
      ]
     },
     "execution_count": 21,
     "metadata": {},
     "output_type": "execute_result"
    }
   ],
   "source": [
    "X = np.array(['A','B','C','D','E'])\n",
    "# X[1:4]\n",
    "X[1:-1]"
   ]
  },
  {
   "cell_type": "markdown",
   "id": "b43bb7bb",
   "metadata": {},
   "source": [
    "###  Given the X numpy array, show the elements in reverse position"
   ]
  },
  {
   "cell_type": "code",
   "execution_count": 22,
   "id": "2c69b712",
   "metadata": {},
   "outputs": [
    {
     "data": {
      "text/plain": [
       "array(['E', 'D', 'C', 'B', 'A'], dtype='<U1')"
      ]
     },
     "execution_count": 22,
     "metadata": {},
     "output_type": "execute_result"
    }
   ],
   "source": [
    "X = np.array(['A','B','C','D','E'])\n",
    "\n",
    "X[::-1]"
   ]
  },
  {
   "cell_type": "markdown",
   "id": "76148525",
   "metadata": {},
   "source": [
    "### Given the X numpy array, show the elements in an odd position"
   ]
  },
  {
   "cell_type": "code",
   "execution_count": 23,
   "id": "88ca3c63",
   "metadata": {},
   "outputs": [
    {
     "data": {
      "text/plain": [
       "array(['A', 'C', 'E'], dtype='<U1')"
      ]
     },
     "execution_count": 23,
     "metadata": {},
     "output_type": "execute_result"
    }
   ],
   "source": [
    "X = np.array(['A','B','C','D','E'])\n",
    "# X[[0, 2, 4]]\n",
    "X[::2]"
   ]
  },
  {
   "cell_type": "markdown",
   "id": "61b4c900",
   "metadata": {},
   "source": [
    "### Given the X numpy matrix, show the first row elements and last row"
   ]
  },
  {
   "cell_type": "code",
   "execution_count": 24,
   "id": "a0b204b1",
   "metadata": {},
   "outputs": [
    {
     "name": "stdout",
     "output_type": "stream",
     "text": [
      "[1 2 3 4]\n",
      "[13 14 15 16]\n"
     ]
    }
   ],
   "source": [
    "X = np.array([\n",
    "    [1,   2,  3,  4],\n",
    "    [5,   6,  7,  8],\n",
    "    [9,  10, 11, 12],\n",
    "    [13, 14, 15, 16]\n",
    "])\n",
    "\n",
    "print(X[0])\n",
    "print(X[-1])"
   ]
  },
  {
   "cell_type": "markdown",
   "id": "7df57f5e",
   "metadata": {},
   "source": [
    "### Given the X numpy matrix, show the first element on first row"
   ]
  },
  {
   "cell_type": "code",
   "execution_count": 25,
   "id": "c6c64183",
   "metadata": {},
   "outputs": [
    {
     "data": {
      "text/plain": [
       "1"
      ]
     },
     "execution_count": 25,
     "metadata": {},
     "output_type": "execute_result"
    }
   ],
   "source": [
    "X = np.array([\n",
    "    [1,   2,  3,  4],\n",
    "    [5,   6,  7,  8],\n",
    "    [9,  10, 11, 12],\n",
    "    [13, 14, 15, 16]\n",
    "])\n",
    "\n",
    "X[0][0]\n",
    "# X[0, 0]"
   ]
  },
  {
   "cell_type": "markdown",
   "id": "19c54405",
   "metadata": {},
   "source": [
    "### Given the X numpy matrix, show the last element on last row"
   ]
  },
  {
   "cell_type": "code",
   "execution_count": 26,
   "id": "98d61a24",
   "metadata": {},
   "outputs": [
    {
     "data": {
      "text/plain": [
       "16"
      ]
     },
     "execution_count": 26,
     "metadata": {},
     "output_type": "execute_result"
    }
   ],
   "source": [
    "X = np.array([\n",
    "    [1,   2,  3,  4],\n",
    "    [5,   6,  7,  8],\n",
    "    [9,  10, 11, 12],\n",
    "    [13, 14, 15, 16]\n",
    "])\n",
    "\n",
    "X[-1][-1]\n",
    "# X[-1, -1]"
   ]
  },
  {
   "cell_type": "code",
   "execution_count": 27,
   "id": "1f7774e5",
   "metadata": {},
   "outputs": [
    {
     "data": {
      "text/plain": [
       "array([[ 6,  7],\n",
       "       [10, 11]])"
      ]
     },
     "execution_count": 27,
     "metadata": {},
     "output_type": "execute_result"
    }
   ],
   "source": [
    "X = np.array([\n",
    "    [1,   2,  3,  4],\n",
    "    [5,   6,  7,  8],\n",
    "    [9,  10, 11, 12],\n",
    "    [13, 14, 15, 16]\n",
    "])\n",
    "\n",
    "# X[1:-1][1:-1] wrong!\n",
    "X[1:-1, 1:-1]"
   ]
  },
  {
   "cell_type": "markdown",
   "id": "1cea0e0d",
   "metadata": {},
   "source": [
    "### Given the X numpy matrix, show the first two elements on the first two rows"
   ]
  },
  {
   "cell_type": "code",
   "execution_count": 28,
   "id": "b84f7481",
   "metadata": {},
   "outputs": [
    {
     "data": {
      "text/plain": [
       "array([[1, 2],\n",
       "       [5, 6]])"
      ]
     },
     "execution_count": 28,
     "metadata": {},
     "output_type": "execute_result"
    }
   ],
   "source": [
    "X = np.array([\n",
    "    [1,   2,  3,  4],\n",
    "    [5,   6,  7,  8],\n",
    "    [9,  10, 11, 12],\n",
    "    [13, 14, 15, 16]\n",
    "])\n",
    "\n",
    "#X[:2][:2] wrong!\n",
    "#X[0:2, 0:2]\n",
    "X[:2, :2]"
   ]
  },
  {
   "cell_type": "markdown",
   "id": "85c42345",
   "metadata": {},
   "source": [
    "#### Given the X numpy matrix, show the last two elements on the last two rows"
   ]
  },
  {
   "cell_type": "code",
   "execution_count": 29,
   "id": "7b8b92d2",
   "metadata": {},
   "outputs": [
    {
     "data": {
      "text/plain": [
       "array([[11, 12],\n",
       "       [15, 16]])"
      ]
     },
     "execution_count": 29,
     "metadata": {},
     "output_type": "execute_result"
    }
   ],
   "source": [
    "X = np.array([\n",
    "    [1,   2,  3,  4],\n",
    "    [5,   6,  7,  8],\n",
    "    [9,  10, 11, 12],\n",
    "    [13, 14, 15, 16]\n",
    "])\n",
    "\n",
    "X[2:, 2:]"
   ]
  },
  {
   "cell_type": "markdown",
   "id": "3d6019d9",
   "metadata": {},
   "source": [
    "# Array manipulation"
   ]
  },
  {
   "cell_type": "markdown",
   "id": "233d551d",
   "metadata": {},
   "source": [
    "### Convert the given integer numpy array to float"
   ]
  },
  {
   "cell_type": "code",
   "execution_count": 30,
   "id": "1cfe351e",
   "metadata": {},
   "outputs": [
    {
     "name": "stderr",
     "output_type": "stream",
     "text": [
      "C:\\Users\\anshu\\AppData\\Local\\Temp\\ipykernel_12764\\4247539020.py:3: DeprecationWarning: `np.float` is a deprecated alias for the builtin `float`. To silence this warning, use `float` by itself. Doing this will not modify any behavior and is safe. If you specifically wanted the numpy scalar type, use `np.float64` here.\n",
      "Deprecated in NumPy 1.20; for more details and guidance: https://numpy.org/devdocs/release/1.20.0-notes.html#deprecations\n",
      "  np.array(X, np.float)\n"
     ]
    },
    {
     "data": {
      "text/plain": [
       "array([-5., -3.,  0., 10., 40.])"
      ]
     },
     "execution_count": 30,
     "metadata": {},
     "output_type": "execute_result"
    }
   ],
   "source": [
    "X = [-5, -3, 0, 10, 40]\n",
    "\n",
    "np.array(X, np.float)"
   ]
  },
  {
   "cell_type": "markdown",
   "id": "aa24da25",
   "metadata": {},
   "source": [
    "### Reverse the given numpy array (first element becomes last)"
   ]
  },
  {
   "cell_type": "code",
   "execution_count": 31,
   "id": "7ac21014",
   "metadata": {},
   "outputs": [
    {
     "data": {
      "text/plain": [
       "[40, 10, 0, -3, -5]"
      ]
     },
     "execution_count": 31,
     "metadata": {},
     "output_type": "execute_result"
    }
   ],
   "source": [
    "X = [-5, -3, 0, 10, 40]\n",
    "\n",
    "X[::-1]"
   ]
  },
  {
   "cell_type": "markdown",
   "id": "1f312ed3",
   "metadata": {},
   "source": [
    "### Order (sort) the given numpy array"
   ]
  },
  {
   "cell_type": "code",
   "execution_count": 32,
   "id": "35e95767",
   "metadata": {},
   "outputs": [
    {
     "data": {
      "text/plain": [
       "[-5, -3, 0, 10, 40]"
      ]
     },
     "execution_count": 32,
     "metadata": {},
     "output_type": "execute_result"
    }
   ],
   "source": [
    "X = [0, 10, -5, 40, -3]\n",
    "\n",
    "X.sort()\n",
    "X"
   ]
  },
  {
   "cell_type": "markdown",
   "id": "ae1a529c",
   "metadata": {},
   "source": [
    "### Given the X numpy array, set the fifth element equal to 1"
   ]
  },
  {
   "cell_type": "code",
   "execution_count": 33,
   "id": "48deb94a",
   "metadata": {},
   "outputs": [
    {
     "data": {
      "text/plain": [
       "array([0., 0., 0., 0., 1., 0., 0., 0., 0., 0.])"
      ]
     },
     "execution_count": 33,
     "metadata": {},
     "output_type": "execute_result"
    }
   ],
   "source": [
    "X = np.zeros(10)\n",
    "\n",
    "X[4] = 1\n",
    "X"
   ]
  },
  {
   "cell_type": "markdown",
   "id": "e04f6c3e",
   "metadata": {},
   "source": [
    "### Given the X numpy array, change the 50 with a 40"
   ]
  },
  {
   "cell_type": "code",
   "execution_count": 34,
   "id": "39302b15",
   "metadata": {},
   "outputs": [
    {
     "data": {
      "text/plain": [
       "array([10, 20, 30, 40])"
      ]
     },
     "execution_count": 34,
     "metadata": {},
     "output_type": "execute_result"
    }
   ],
   "source": [
    "X = np.array([10, 20, 30, 50])\n",
    "\n",
    "X[3] = 40\n",
    "X"
   ]
  },
  {
   "cell_type": "markdown",
   "id": "5cc7af41",
   "metadata": {},
   "source": [
    "#### Given the X numpy matrix, change the last row with all 1"
   ]
  },
  {
   "cell_type": "code",
   "execution_count": 35,
   "id": "7d7fe3f3",
   "metadata": {},
   "outputs": [
    {
     "data": {
      "text/plain": [
       "array([[ 1,  2,  3,  4],\n",
       "       [ 5,  6,  7,  8],\n",
       "       [ 9, 10, 11, 12],\n",
       "       [ 1,  1,  1,  1]])"
      ]
     },
     "execution_count": 35,
     "metadata": {},
     "output_type": "execute_result"
    }
   ],
   "source": [
    "X = np.array([\n",
    "    [1,   2,  3,  4],\n",
    "    [5,   6,  7,  8],\n",
    "    [9,  10, 11, 12],\n",
    "    [13, 14, 15, 16]\n",
    "])\n",
    "\n",
    "X[-1] = np.array([1, 1, 1, 1])\n",
    "X"
   ]
  },
  {
   "cell_type": "markdown",
   "id": "9d7a9e18",
   "metadata": {},
   "source": [
    "### Given the X numpy matrix, change the last item on the last row with a 0"
   ]
  },
  {
   "cell_type": "code",
   "execution_count": 36,
   "id": "8eb626af",
   "metadata": {},
   "outputs": [
    {
     "data": {
      "text/plain": [
       "array([[ 1,  2,  3,  4],\n",
       "       [ 5,  6,  7,  8],\n",
       "       [ 9, 10,  0, 12],\n",
       "       [13, 14, 15, 16]])"
      ]
     },
     "execution_count": 36,
     "metadata": {},
     "output_type": "execute_result"
    }
   ],
   "source": [
    "X = np.array([\n",
    "    [1,   2,  3,  4],\n",
    "    [5,   6,  7,  8],\n",
    "    [9,  10, 11, 12],\n",
    "    [13, 14, 15, 16]\n",
    "])\n",
    "\n",
    "X[-2, -2] = 0\n",
    "X"
   ]
  },
  {
   "cell_type": "markdown",
   "id": "ccc6e4a3",
   "metadata": {},
   "source": [
    "#### Given the X numpy matrix, add 5 to every element"
   ]
  },
  {
   "cell_type": "code",
   "execution_count": 37,
   "id": "8fc145ee",
   "metadata": {},
   "outputs": [
    {
     "data": {
      "text/plain": [
       "array([[ 6,  7,  8,  9],\n",
       "       [10, 11, 12, 13],\n",
       "       [14, 15, 16, 17],\n",
       "       [18, 19, 20, 21]])"
      ]
     },
     "execution_count": 37,
     "metadata": {},
     "output_type": "execute_result"
    }
   ],
   "source": [
    "X = np.array([\n",
    "    [1,   2,  3,  4],\n",
    "    [5,   6,  7,  8],\n",
    "    [9,  10, 11, 12],\n",
    "    [13, 14, 15, 16]\n",
    "])\n",
    "\n",
    "X + 5"
   ]
  },
  {
   "cell_type": "markdown",
   "id": "5bae9601",
   "metadata": {},
   "source": [
    "# Boolean arrays (also called masks"
   ]
  },
  {
   "cell_type": "markdown",
   "id": "50cbdfbb",
   "metadata": {},
   "source": [
    "### Given the X numpy array, make a mask showing negative elements"
   ]
  },
  {
   "cell_type": "code",
   "execution_count": 39,
   "id": "e0446bcb",
   "metadata": {},
   "outputs": [
    {
     "data": {
      "text/plain": [
       "array([ True, False,  True,  True, False, False,  True,  True,  True,\n",
       "       False])"
      ]
     },
     "execution_count": 39,
     "metadata": {},
     "output_type": "execute_result"
    }
   ],
   "source": [
    "X = np.array([-1,2,0,-4,5,6,0,0,-9,10])\n",
    "\n",
    "mask = X <= 0\n",
    "mask"
   ]
  },
  {
   "cell_type": "markdown",
   "id": "ed9e3416",
   "metadata": {},
   "source": [
    "### Given the X numpy array, get the number greater than 5"
   ]
  },
  {
   "cell_type": "code",
   "execution_count": 40,
   "id": "944c594b",
   "metadata": {},
   "outputs": [
    {
     "data": {
      "text/plain": [
       "array([ 6, 10])"
      ]
     },
     "execution_count": 40,
     "metadata": {},
     "output_type": "execute_result"
    }
   ],
   "source": [
    "X = np.array([-1, 2, 0, -4, 5, 6, 0, 0, -9, 10])\n",
    "\n",
    "mask = X > 5\n",
    "X[mask]"
   ]
  },
  {
   "cell_type": "markdown",
   "id": "eb51d973",
   "metadata": {},
   "source": [
    "### Given the X numpy array, get numbers higher than the elements mean"
   ]
  },
  {
   "cell_type": "code",
   "execution_count": 41,
   "id": "a5bc5021",
   "metadata": {},
   "outputs": [
    {
     "data": {
      "text/plain": [
       "array([ 2,  5,  6, 10])"
      ]
     },
     "execution_count": 41,
     "metadata": {},
     "output_type": "execute_result"
    }
   ],
   "source": [
    "X = np.array([-1, 2, 0, -4, 5, 6, 0, 0, -9, 10])\n",
    "\n",
    "mask = X > X.mean()\n",
    "X[mask]"
   ]
  },
  {
   "cell_type": "markdown",
   "id": "544d6e78",
   "metadata": {},
   "source": [
    "### Given the X numpy array, get numbers equal to 2 or 10"
   ]
  },
  {
   "cell_type": "code",
   "execution_count": 42,
   "id": "5aef78fb",
   "metadata": {},
   "outputs": [
    {
     "data": {
      "text/plain": [
       "array([ 2, 10])"
      ]
     },
     "execution_count": 42,
     "metadata": {},
     "output_type": "execute_result"
    }
   ],
   "source": [
    "X = np.array([-1, 2, 0, -4, 5, 6, 0, 0, -9, 10])\n",
    "\n",
    "mask = (X == 2) | (X == 10)\n",
    "X[mask]"
   ]
  },
  {
   "cell_type": "markdown",
   "id": "ba01a27b",
   "metadata": {},
   "source": [
    "# Logic functions"
   ]
  },
  {
   "cell_type": "markdown",
   "id": "de9ff1c5",
   "metadata": {},
   "source": [
    "### Given the X numpy array, return True if none of its elements is zero"
   ]
  },
  {
   "cell_type": "code",
   "execution_count": 43,
   "id": "4ca3ac16",
   "metadata": {},
   "outputs": [
    {
     "data": {
      "text/plain": [
       "False"
      ]
     },
     "execution_count": 43,
     "metadata": {},
     "output_type": "execute_result"
    }
   ],
   "source": [
    "X = np.array([-1, 2, 0, -4, 5, 6, 0, 0, -9, 10])\n",
    "\n",
    "X.all()"
   ]
  },
  {
   "cell_type": "markdown",
   "id": "a9a3866d",
   "metadata": {},
   "source": [
    "### Given the X numpy array, return True if any of its elements is zero"
   ]
  },
  {
   "cell_type": "code",
   "execution_count": 44,
   "id": "15643d5b",
   "metadata": {},
   "outputs": [
    {
     "data": {
      "text/plain": [
       "True"
      ]
     },
     "execution_count": 44,
     "metadata": {},
     "output_type": "execute_result"
    }
   ],
   "source": [
    "X = np.array([-1, 2, 0, -4, 5, 6, 0, 0, -9, 10])\n",
    "\n",
    "X.any()"
   ]
  },
  {
   "cell_type": "markdown",
   "id": "a088533a",
   "metadata": {},
   "source": [
    "# Summary statistics"
   ]
  },
  {
   "cell_type": "markdown",
   "id": "52bfbe76",
   "metadata": {},
   "source": [
    "### Given the X numpy array, show the sum of its elements"
   ]
  },
  {
   "cell_type": "code",
   "execution_count": 45,
   "id": "42a63912",
   "metadata": {},
   "outputs": [
    {
     "data": {
      "text/plain": [
       "43"
      ]
     },
     "execution_count": 45,
     "metadata": {},
     "output_type": "execute_result"
    }
   ],
   "source": [
    "X = np.array([3, 5, 6, 7, 2, 3, 4, 9, 4])\n",
    "\n",
    "#np.sum(X)\n",
    "X.sum()"
   ]
  },
  {
   "cell_type": "markdown",
   "id": "0d2d13b3",
   "metadata": {},
   "source": [
    "### Given the X numpy array, show the mean value of its elements"
   ]
  },
  {
   "cell_type": "code",
   "execution_count": 46,
   "id": "02b98449",
   "metadata": {},
   "outputs": [
    {
     "data": {
      "text/plain": [
       "3.7"
      ]
     },
     "execution_count": 46,
     "metadata": {},
     "output_type": "execute_result"
    }
   ],
   "source": [
    "X = np.array([1, 2, 0, 4, 5, 6, 0, 0, 9, 10])\n",
    "\n",
    "#np.mean(X)\n",
    "X.mean()"
   ]
  },
  {
   "cell_type": "markdown",
   "id": "85713f04",
   "metadata": {},
   "source": [
    "### Given the X numpy matrix, show the sum of its column"
   ]
  },
  {
   "cell_type": "code",
   "execution_count": 47,
   "id": "06049f72",
   "metadata": {},
   "outputs": [
    {
     "data": {
      "text/plain": [
       "array([28, 32, 36, 40])"
      ]
     },
     "execution_count": 47,
     "metadata": {},
     "output_type": "execute_result"
    }
   ],
   "source": [
    "X = np.array([\n",
    "    [1,   2,  3,  4],\n",
    "    [5,   6,  7,  8],\n",
    "    [9,  10, 11, 12],\n",
    "    [13, 14, 15, 16]\n",
    "])\n",
    "\n",
    "X.sum(axis=0) # remember: axis=0 columns; axis=1 rows"
   ]
  },
  {
   "cell_type": "markdown",
   "id": "23aa247f",
   "metadata": {},
   "source": [
    "### Given the X numpy matrix, show the mean value of its row"
   ]
  },
  {
   "cell_type": "code",
   "execution_count": 48,
   "id": "947c46a4",
   "metadata": {},
   "outputs": [
    {
     "data": {
      "text/plain": [
       "array([ 2.5,  6.5, 10.5, 14.5])"
      ]
     },
     "execution_count": 48,
     "metadata": {},
     "output_type": "execute_result"
    }
   ],
   "source": [
    "X = np.array([\n",
    "    [1,   2,  3,  4],\n",
    "    [5,   6,  7,  8],\n",
    "    [9,  10, 11, 12],\n",
    "    [13, 14, 15, 16]\n",
    "])\n",
    "\n",
    "X.mean(axis=1) # remember: axis=0 columns; axis=1 rows"
   ]
  },
  {
   "cell_type": "markdown",
   "id": "d453ba58",
   "metadata": {},
   "source": [
    "### Given the X numpy array, show the max value of its elements"
   ]
  },
  {
   "cell_type": "code",
   "execution_count": 49,
   "id": "d5a457c5",
   "metadata": {},
   "outputs": [
    {
     "data": {
      "text/plain": [
       "10"
      ]
     },
     "execution_count": 49,
     "metadata": {},
     "output_type": "execute_result"
    }
   ],
   "source": [
    "X = np.array([1, 2, 0, 4, 5, 6, 0, 0, 9, 10])\n",
    "\n",
    "#np.max(X)\n",
    "X.max()"
   ]
  },
  {
   "cell_type": "code",
   "execution_count": null,
   "id": "5d124237",
   "metadata": {},
   "outputs": [],
   "source": []
  }
 ],
 "metadata": {
  "kernelspec": {
   "display_name": "Python 3 (ipykernel)",
   "language": "python",
   "name": "python3"
  },
  "language_info": {
   "codemirror_mode": {
    "name": "ipython",
    "version": 3
   },
   "file_extension": ".py",
   "mimetype": "text/x-python",
   "name": "python",
   "nbconvert_exporter": "python",
   "pygments_lexer": "ipython3",
   "version": "3.8.13"
  }
 },
 "nbformat": 4,
 "nbformat_minor": 5
}
