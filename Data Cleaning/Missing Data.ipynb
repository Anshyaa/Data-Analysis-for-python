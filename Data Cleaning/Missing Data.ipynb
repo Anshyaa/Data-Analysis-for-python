{
 "cells": [
  {
   "cell_type": "code",
   "execution_count": 1,
   "id": "4aa8dc3d",
   "metadata": {},
   "outputs": [],
   "source": [
    "import pandas as pd\n",
    "import numpy as np\n"
   ]
  },
  {
   "cell_type": "markdown",
   "id": "af0b053b",
   "metadata": {},
   "source": [
    "### an empty value, or a number 0, or an invalid value (a string for example) can be considered \"missing data\""
   ]
  },
  {
   "cell_type": "code",
   "execution_count": 2,
   "id": "d819e7b4",
   "metadata": {},
   "outputs": [],
   "source": [
    "falsy_values = (0, False, None, '', [], {})"
   ]
  },
  {
   "cell_type": "code",
   "execution_count": 3,
   "id": "e164a71d",
   "metadata": {},
   "outputs": [
    {
     "data": {
      "text/plain": [
       "False"
      ]
     },
     "execution_count": 3,
     "metadata": {},
     "output_type": "execute_result"
    }
   ],
   "source": [
    "any(falsy_values)"
   ]
  },
  {
   "cell_type": "code",
   "execution_count": 4,
   "id": "8d2319e5",
   "metadata": {},
   "outputs": [
    {
     "data": {
      "text/plain": [
       "nan"
      ]
     },
     "execution_count": 4,
     "metadata": {},
     "output_type": "execute_result"
    }
   ],
   "source": [
    "np.nan"
   ]
  },
  {
   "cell_type": "code",
   "execution_count": 5,
   "id": "eb872027",
   "metadata": {},
   "outputs": [
    {
     "data": {
      "text/plain": [
       "nan"
      ]
     },
     "execution_count": 5,
     "metadata": {},
     "output_type": "execute_result"
    }
   ],
   "source": [
    "3 + np.nan"
   ]
  },
  {
   "cell_type": "code",
   "execution_count": 6,
   "id": "f853a3e0",
   "metadata": {},
   "outputs": [],
   "source": [
    "a = np.array([1, 2, 3, np.nan, np.nan, 4])"
   ]
  },
  {
   "cell_type": "code",
   "execution_count": 7,
   "id": "1a201ae1",
   "metadata": {
    "scrolled": true
   },
   "outputs": [
    {
     "data": {
      "text/plain": [
       "(nan, nan)"
      ]
     },
     "execution_count": 7,
     "metadata": {},
     "output_type": "execute_result"
    }
   ],
   "source": [
    "a.sum() , a.mean()"
   ]
  },
  {
   "cell_type": "markdown",
   "id": "3adbfebf",
   "metadata": {},
   "source": [
    "### if we replace None with np.nan, it raises an exception"
   ]
  },
  {
   "cell_type": "code",
   "execution_count": 8,
   "id": "f2356a5c",
   "metadata": {},
   "outputs": [
    {
     "data": {
      "text/plain": [
       "nan"
      ]
     },
     "execution_count": 8,
     "metadata": {},
     "output_type": "execute_result"
    }
   ],
   "source": [
    "3 + np.nan"
   ]
  },
  {
   "cell_type": "code",
   "execution_count": 9,
   "id": "801be146",
   "metadata": {},
   "outputs": [],
   "source": [
    "###The np.nan value is kind of a virus. Everything that it touches becomes np.nan:"
   ]
  },
  {
   "cell_type": "markdown",
   "id": "a5e46b18",
   "metadata": {},
   "source": [
    "### for numeric array np.nan is replaced by None"
   ]
  },
  {
   "cell_type": "code",
   "execution_count": 10,
   "id": "2c07c847",
   "metadata": {},
   "outputs": [
    {
     "data": {
      "text/plain": [
       "array([ 1.,  2.,  3., nan, nan,  4.])"
      ]
     },
     "execution_count": 10,
     "metadata": {},
     "output_type": "execute_result"
    }
   ],
   "source": [
    "a = np.array([1, 2, 3, np.nan, None, 4], dtype = 'float')\n",
    "a"
   ]
  },
  {
   "cell_type": "code",
   "execution_count": 11,
   "id": "405ffd0f",
   "metadata": {},
   "outputs": [
    {
     "data": {
      "text/plain": [
       "(nan, nan)"
      ]
     },
     "execution_count": 11,
     "metadata": {},
     "output_type": "execute_result"
    }
   ],
   "source": [
    "a = np.array([1, 2, 3, np.nan, np.nan, 4])\n",
    "a.mean() ,a.sum()"
   ]
  },
  {
   "cell_type": "markdown",
   "id": "beaf9f34",
   "metadata": {},
   "source": [
    "### Numpy also support an 'Infinite' type, which also behaves like a virus"
   ]
  },
  {
   "cell_type": "code",
   "execution_count": 12,
   "id": "ecc8a987",
   "metadata": {},
   "outputs": [
    {
     "data": {
      "text/plain": [
       "inf"
      ]
     },
     "execution_count": 12,
     "metadata": {},
     "output_type": "execute_result"
    }
   ],
   "source": [
    "np.inf"
   ]
  },
  {
   "cell_type": "code",
   "execution_count": 13,
   "id": "a520445e",
   "metadata": {},
   "outputs": [
    {
     "data": {
      "text/plain": [
       "inf"
      ]
     },
     "execution_count": 13,
     "metadata": {},
     "output_type": "execute_result"
    }
   ],
   "source": [
    "3 + np.inf\n"
   ]
  },
  {
   "cell_type": "code",
   "execution_count": 14,
   "id": "3f0fdf48",
   "metadata": {},
   "outputs": [
    {
     "data": {
      "text/plain": [
       "inf"
      ]
     },
     "execution_count": 14,
     "metadata": {},
     "output_type": "execute_result"
    }
   ],
   "source": [
    "np.inf / 3"
   ]
  },
  {
   "cell_type": "code",
   "execution_count": 15,
   "id": "061199f7",
   "metadata": {},
   "outputs": [
    {
     "data": {
      "text/plain": [
       "nan"
      ]
     },
     "execution_count": 15,
     "metadata": {},
     "output_type": "execute_result"
    }
   ],
   "source": [
    "np.inf / np.inf"
   ]
  },
  {
   "cell_type": "code",
   "execution_count": 16,
   "id": "2b780596",
   "metadata": {},
   "outputs": [
    {
     "name": "stderr",
     "output_type": "stream",
     "text": [
      "C:\\Users\\anshu\\AppData\\Local\\Temp\\ipykernel_2748\\852719732.py:1: DeprecationWarning: `np.float` is a deprecated alias for the builtin `float`. To silence this warning, use `float` by itself. Doing this will not modify any behavior and is safe. If you specifically wanted the numpy scalar type, use `np.float64` here.\n",
      "Deprecated in NumPy 1.20; for more details and guidance: https://numpy.org/devdocs/release/1.20.0-notes.html#deprecations\n",
      "  b = np.array([1, 2, 3, np.inf, np.nan, 4], dtype=np.float)\n"
     ]
    },
    {
     "data": {
      "text/plain": [
       "nan"
      ]
     },
     "execution_count": 16,
     "metadata": {},
     "output_type": "execute_result"
    }
   ],
   "source": [
    "b = np.array([1, 2, 3, np.inf, np.nan, 4], dtype=np.float)\n",
    "b.sum()"
   ]
  },
  {
   "cell_type": "markdown",
   "id": "f28502e7",
   "metadata": {},
   "source": [
    "# Checking for nan or inf"
   ]
  },
  {
   "cell_type": "markdown",
   "id": "7bcccd25",
   "metadata": {},
   "source": [
    "### We will do the cheaking using 'np.isnan' and 'np.isinf'"
   ]
  },
  {
   "cell_type": "code",
   "execution_count": 17,
   "id": "9d63c765",
   "metadata": {},
   "outputs": [
    {
     "data": {
      "text/plain": [
       "(True, True)"
      ]
     },
     "execution_count": 17,
     "metadata": {},
     "output_type": "execute_result"
    }
   ],
   "source": [
    "np.isnan(np.nan), np.isinf(np.inf)"
   ]
  },
  {
   "cell_type": "markdown",
   "id": "6ec09be1",
   "metadata": {},
   "source": [
    "### And the joint operation can be performed with np.isfinite"
   ]
  },
  {
   "cell_type": "code",
   "execution_count": 18,
   "id": "1b1f0331",
   "metadata": {},
   "outputs": [
    {
     "data": {
      "text/plain": [
       "(False, False)"
      ]
     },
     "execution_count": 18,
     "metadata": {},
     "output_type": "execute_result"
    }
   ],
   "source": [
    "np.isfinite(np.nan), np.isfinite(np.inf)"
   ]
  },
  {
   "cell_type": "markdown",
   "id": "ec87482d",
   "metadata": {},
   "source": [
    "### np.isnan and np.isinf also take arrays as inputs, and return boolean arrays as results"
   ]
  },
  {
   "cell_type": "code",
   "execution_count": 19,
   "id": "aae5b141",
   "metadata": {},
   "outputs": [
    {
     "data": {
      "text/plain": [
       "array([False, False, False,  True, False, False])"
      ]
     },
     "execution_count": 19,
     "metadata": {},
     "output_type": "execute_result"
    }
   ],
   "source": [
    "np.isnan(np.array([1, 2, 3, np.nan, np.inf, 4]))\n"
   ]
  },
  {
   "cell_type": "code",
   "execution_count": 20,
   "id": "ca870b13",
   "metadata": {},
   "outputs": [
    {
     "data": {
      "text/plain": [
       "array([False, False, False, False,  True, False])"
      ]
     },
     "execution_count": 20,
     "metadata": {},
     "output_type": "execute_result"
    }
   ],
   "source": [
    "np.isinf(np.array([1, 2, 3, np.nan, np.inf, 4]))\n"
   ]
  },
  {
   "cell_type": "code",
   "execution_count": 21,
   "id": "c486d3bf",
   "metadata": {},
   "outputs": [
    {
     "data": {
      "text/plain": [
       "array([ True,  True,  True, False, False,  True])"
      ]
     },
     "execution_count": 21,
     "metadata": {},
     "output_type": "execute_result"
    }
   ],
   "source": [
    "np.isfinite(np.array([1, 2, 3, np.nan, np.inf, 4]))"
   ]
  },
  {
   "cell_type": "markdown",
   "id": "b253140d",
   "metadata": {},
   "source": [
    "### Note: It's not so common to find infinite values. From now on, we'll keep working with only np.nan"
   ]
  },
  {
   "cell_type": "markdown",
   "id": "8fd3fdc4",
   "metadata": {},
   "source": [
    "# Filtering them out"
   ]
  },
  {
   "cell_type": "markdown",
   "id": "92480acd",
   "metadata": {},
   "source": [
    "### To avoid propagation we use filtering"
   ]
  },
  {
   "cell_type": "code",
   "execution_count": 22,
   "id": "2e5757da",
   "metadata": {},
   "outputs": [],
   "source": [
    "a = np.array([1, 2, 3, np.nan, np.nan, 4])"
   ]
  },
  {
   "cell_type": "code",
   "execution_count": 23,
   "id": "074e6d07",
   "metadata": {},
   "outputs": [
    {
     "data": {
      "text/plain": [
       "array([1., 2., 3., 4.])"
      ]
     },
     "execution_count": 23,
     "metadata": {},
     "output_type": "execute_result"
    }
   ],
   "source": [
    "a[~np.isnan(a)]"
   ]
  },
  {
   "cell_type": "markdown",
   "id": "1fa7567c",
   "metadata": {},
   "source": [
    "### which is equivalent to"
   ]
  },
  {
   "cell_type": "code",
   "execution_count": 24,
   "id": "ef5675f1",
   "metadata": {
    "scrolled": false
   },
   "outputs": [
    {
     "data": {
      "text/plain": [
       "array([1., 2., 3., 4.])"
      ]
     },
     "execution_count": 24,
     "metadata": {},
     "output_type": "execute_result"
    }
   ],
   "source": [
    "a[np.isfinite(a)]"
   ]
  },
  {
   "cell_type": "markdown",
   "id": "dcc0c708",
   "metadata": {},
   "source": [
    "### And with that result, all the operation can be now performed"
   ]
  },
  {
   "cell_type": "code",
   "execution_count": 25,
   "id": "83155553",
   "metadata": {
    "scrolled": true
   },
   "outputs": [
    {
     "data": {
      "text/plain": [
       "10.0"
      ]
     },
     "execution_count": 25,
     "metadata": {},
     "output_type": "execute_result"
    }
   ],
   "source": [
    "a[np.isfinite(a)].sum()"
   ]
  },
  {
   "cell_type": "code",
   "execution_count": 26,
   "id": "a051548a",
   "metadata": {},
   "outputs": [
    {
     "data": {
      "text/plain": [
       "2.5"
      ]
     },
     "execution_count": 26,
     "metadata": {},
     "output_type": "execute_result"
    }
   ],
   "source": [
    "a[np.isfinite(a)].mean()"
   ]
  },
  {
   "cell_type": "code",
   "execution_count": null,
   "id": "0338da75",
   "metadata": {},
   "outputs": [],
   "source": []
  },
  {
   "cell_type": "code",
   "execution_count": null,
   "id": "727cc716",
   "metadata": {},
   "outputs": [],
   "source": []
  }
 ],
 "metadata": {
  "kernelspec": {
   "display_name": "Python 3 (ipykernel)",
   "language": "python",
   "name": "python3"
  },
  "language_info": {
   "codemirror_mode": {
    "name": "ipython",
    "version": 3
   },
   "file_extension": ".py",
   "mimetype": "text/x-python",
   "name": "python",
   "nbconvert_exporter": "python",
   "pygments_lexer": "ipython3",
   "version": "3.8.13"
  }
 },
 "nbformat": 4,
 "nbformat_minor": 5
}
